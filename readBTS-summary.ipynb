{
 "cells": [
  {
   "cell_type": "code",
   "execution_count": 1,
   "metadata": {},
   "outputs": [],
   "source": [
    "import pandas as pd\n",
    "import numpy as np\n",
    "from datetime import datetime\n",
    "BTS_data = pd.read_csv(\"billionton_state_download.csv\",low_memory = 0)"
   ]
  },
  {
   "cell_type": "code",
   "execution_count": 23,
   "metadata": {},
   "outputs": [],
   "source": [
    "active_cases = [\"3% yield inc.\",\"High housing, high energy demands\",\"Wastes and other residues\"]\n",
    "active_abbrevs = ['3y','hh','waste']"
   ]
  },
  {
   "cell_type": "code",
   "execution_count": 25,
   "metadata": {},
   "outputs": [],
   "source": [
    "i = 0\n",
    "active_state = \"US\"\n",
    "\n",
    "for active_case in active_cases:\n",
    "    timeNow = datetime.now()\n",
    "    timeString = timeNow.strftime(\"%H%M%S\")\n",
    "    active_data = BTS_data[BTS_data[\"Scenario\"] == active_case]\n",
    "    active_data = active_data[active_data[\"Production\"] != \"null\"]\n",
    "    active_data[\"Production\"] = active_data[\"Production\"].astype('double')\n",
    "    active_year = 2040\n",
    "    active_data = active_data[active_data[\"Year\"] == active_year]\n",
    "    active_state = \"New York\"\n",
    "    active_data = active_data[active_data[\"State\"] == active_state]\n",
    "    data_cross = pd.crosstab([active_data['Feedstock'],active_data['Production Unit']],active_data['Biomass Price'],values=active_data.Production,aggfunc=np.sum)\n",
    "    data_cross.to_csv(\"BTS_\" + active_abbrevs[i] + \"_\" + active_state + \"_\" + str(active_year) + \"_\" + timeString + \".csv\")\n",
    "    i += 1"
   ]
  },
  {
   "cell_type": "code",
   "execution_count": 19,
   "metadata": {},
   "outputs": [],
   "source": []
  },
  {
   "cell_type": "code",
   "execution_count": null,
   "metadata": {
    "collapsed": true
   },
   "outputs": [],
   "source": []
  }
 ],
 "metadata": {
  "kernelspec": {
   "display_name": "Python 2",
   "language": "python",
   "name": "python2"
  },
  "language_info": {
   "codemirror_mode": {
    "name": "ipython",
    "version": 2
   },
   "file_extension": ".py",
   "mimetype": "text/x-python",
   "name": "python",
   "nbconvert_exporter": "python",
   "pygments_lexer": "ipython2",
   "version": "2.7.14"
  }
 },
 "nbformat": 4,
 "nbformat_minor": 1
}
