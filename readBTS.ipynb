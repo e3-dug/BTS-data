{
 "cells": [
  {
   "cell_type": "code",
   "execution_count": 2,
   "metadata": {
    "collapsed": true
   },
   "outputs": [],
   "source": [
    "import pandas as pd\n",
    "import numpy as np"
   ]
  },
  {
   "cell_type": "code",
   "execution_count": 3,
   "metadata": {},
   "outputs": [],
   "source": [
    "BTS_data = pd.read_csv(\"billionton_state_download.csv\",low_memory = 0)"
   ]
  },
  {
   "cell_type": "code",
   "execution_count": 4,
   "metadata": {},
   "outputs": [
    {
     "name": "stdout",
     "output_type": "stream",
     "text": [
      "1. Basecase, all energy crops\n",
      "2. Basecase, single energy crops\n",
      "3. 2% yield inc.\n",
      "4. Baseline\n",
      "5. 3% yield inc.\n",
      "6. 4% yield inc.\n",
      "7. High housing, high energy demands\n",
      "8. High housing, medium energy demands\n",
      "9. Medium housing, high energy demands\n",
      "10. Medium housing, low energy demands\n",
      "11. Medium housing, medium energy demands\n",
      "12. High housing, low energy demands\n",
      "13. Wastes and other residues\n",
      "     Select active case: 1\n"
     ]
    }
   ],
   "source": [
    "for i in range(0,len(BTS_data.Scenario.unique())):\n",
    "    print(str(i+1) + \". \" + BTS_data.Scenario.unique()[i])\n",
    "active_case = BTS_data.Scenario.unique()[int(input(\"     Select active case: \"))-1]"
   ]
  },
  {
   "cell_type": "code",
   "execution_count": 23,
   "metadata": {},
   "outputs": [
    {
     "data": {
      "text/html": [
       "<div>\n",
       "<style>\n",
       "    .dataframe thead tr:only-child th {\n",
       "        text-align: right;\n",
       "    }\n",
       "\n",
       "    .dataframe thead th {\n",
       "        text-align: left;\n",
       "    }\n",
       "\n",
       "    .dataframe tbody tr th {\n",
       "        vertical-align: top;\n",
       "    }\n",
       "</style>\n",
       "<table border=\"1\" class=\"dataframe\">\n",
       "  <thead>\n",
       "    <tr style=\"text-align: right;\">\n",
       "      <th></th>\n",
       "      <th>Year</th>\n",
       "      <th>Scenario</th>\n",
       "      <th>Biomass Price</th>\n",
       "      <th>Feedstock</th>\n",
       "      <th>State</th>\n",
       "      <th>Production</th>\n",
       "      <th>Production Unit</th>\n",
       "      <th>Harvested Acres</th>\n",
       "      <th>Yield</th>\n",
       "      <th>Yield Unit</th>\n",
       "      <th>...</th>\n",
       "      <th>Land Source</th>\n",
       "      <th>Forest Region</th>\n",
       "      <th>Diameter Class</th>\n",
       "      <th>Operation Type</th>\n",
       "      <th>Owner</th>\n",
       "      <th>supply Class</th>\n",
       "      <th>Supply Target</th>\n",
       "      <th>fips</th>\n",
       "      <th>USDA Region</th>\n",
       "      <th>type_key</th>\n",
       "    </tr>\n",
       "  </thead>\n",
       "  <tbody>\n",
       "    <tr>\n",
       "      <th>5385</th>\n",
       "      <td>2014</td>\n",
       "      <td>Basecase, all energy crops</td>\n",
       "      <td>30</td>\n",
       "      <td>Corn</td>\n",
       "      <td>Alabama</td>\n",
       "      <td>3.775768e+07</td>\n",
       "      <td>bu</td>\n",
       "      <td>263569.6779</td>\n",
       "      <td>143.25501017</td>\n",
       "      <td>bu/ac</td>\n",
       "      <td>...</td>\n",
       "      <td>Crop</td>\n",
       "      <td>null</td>\n",
       "      <td>null</td>\n",
       "      <td>null</td>\n",
       "      <td>null</td>\n",
       "      <td>null</td>\n",
       "      <td>null</td>\n",
       "      <td>1</td>\n",
       "      <td>Southeast</td>\n",
       "      <td>Conventional#Crop#Corn</td>\n",
       "    </tr>\n",
       "    <tr>\n",
       "      <th>5386</th>\n",
       "      <td>2014</td>\n",
       "      <td>Basecase, all energy crops</td>\n",
       "      <td>30</td>\n",
       "      <td>Cotton</td>\n",
       "      <td>Alabama</td>\n",
       "      <td>2.485867e+08</td>\n",
       "      <td>lb</td>\n",
       "      <td>311391.7877</td>\n",
       "      <td>798.30852697</td>\n",
       "      <td>lb/ac</td>\n",
       "      <td>...</td>\n",
       "      <td>Crop</td>\n",
       "      <td>null</td>\n",
       "      <td>null</td>\n",
       "      <td>null</td>\n",
       "      <td>null</td>\n",
       "      <td>null</td>\n",
       "      <td>null</td>\n",
       "      <td>1</td>\n",
       "      <td>Southeast</td>\n",
       "      <td>Conventional#Crop#Cotton</td>\n",
       "    </tr>\n",
       "  </tbody>\n",
       "</table>\n",
       "<p>2 rows × 24 columns</p>\n",
       "</div>"
      ],
      "text/plain": [
       "      Year                    Scenario Biomass Price Feedstock    State  \\\n",
       "5385  2014  Basecase, all energy crops            30      Corn  Alabama   \n",
       "5386  2014  Basecase, all energy crops            30    Cotton  Alabama   \n",
       "\n",
       "        Production Production Unit Harvested Acres         Yield Yield Unit  \\\n",
       "5385  3.775768e+07              bu     263569.6779  143.25501017      bu/ac   \n",
       "5386  2.485867e+08              lb     311391.7877  798.30852697      lb/ac   \n",
       "\n",
       "                ...            Land Source Forest Region Diameter Class  \\\n",
       "5385            ...                   Crop          null           null   \n",
       "5386            ...                   Crop          null           null   \n",
       "\n",
       "     Operation Type Owner supply Class Supply Target fips USDA Region  \\\n",
       "5385           null  null         null          null    1   Southeast   \n",
       "5386           null  null         null          null    1   Southeast   \n",
       "\n",
       "                      type_key  \n",
       "5385    Conventional#Crop#Corn  \n",
       "5386  Conventional#Crop#Cotton  \n",
       "\n",
       "[2 rows x 24 columns]"
      ]
     },
     "execution_count": 23,
     "metadata": {},
     "output_type": "execute_result"
    }
   ],
   "source": [
    "active_data = BTS_data[BTS_data[\"Scenario\"] == active_case]\n",
    "active_data = active_data[active_data[\"Production\"] != \"null\"]\n",
    "active_data[\"Production\"] = active_data[\"Production\"].astype('double')\n",
    "type_keys = []\n",
    "for i in range(len(active_data)):\n",
    "    thisEntry = active_data.iloc[i]\n",
    "    type_keys.append(thisEntry[\"Resource Type\"] + \"#\" + thisEntry[\"Land Source\"] + \"#\" + thisEntry[\"Feedstock\"])\n",
    "active_data = active_data.assign(type_key=type_keys)\n",
    "active_data.iloc[:2]"
   ]
  },
  {
   "cell_type": "code",
   "execution_count": 10,
   "metadata": {},
   "outputs": [],
   "source": [
    "stateList = BTS_data.State.unique()\n",
    "stateList = sorted(stateList)"
   ]
  },
  {
   "cell_type": "code",
   "execution_count": 11,
   "metadata": {},
   "outputs": [
    {
     "name": "stdout",
     "output_type": "stream",
     "text": [
      "1. Alabama\n",
      "2. Arizona\n",
      "3. Arkansas\n",
      "4. California\n",
      "5. Colorado\n",
      "6. Connecticut\n",
      "7. Delaware\n",
      "8. District of Columbia\n",
      "9. Florida\n",
      "10. Georgia\n",
      "11. Idaho\n",
      "12. Illinois\n",
      "13. Indiana\n",
      "14. Iowa\n",
      "15. Kansas\n",
      "16. Kentucky\n",
      "17. Louisiana\n",
      "18. Maine\n",
      "19. Maryland\n",
      "20. Massachusetts\n",
      "21. Michigan\n",
      "22. Minnesota\n",
      "23. Mississippi\n",
      "24. Missouri\n",
      "25. Montana\n",
      "26. Nebraska\n",
      "27. Nevada\n",
      "28. New Hampshire\n",
      "29. New Jersey\n",
      "30. New Mexico\n",
      "31. New York\n",
      "32. North Carolina\n",
      "33. North Dakota\n",
      "34. Ohio\n",
      "35. Oklahoma\n",
      "36. Oregon\n",
      "37. Pennsylvania\n",
      "38. Rhode Island\n",
      "39. South Carolina\n",
      "40. South Dakota\n",
      "41. Tennessee\n",
      "42. Texas\n",
      "43. Utah\n",
      "44. Vermont\n",
      "45. Virginia\n",
      "46. Washington\n",
      "47. West Virginia\n",
      "48. Wisconsin\n",
      "49. Wyoming\n",
      "     Select active state: 31\n"
     ]
    },
    {
     "ename": "IndexError",
     "evalue": "index 30 is out of bounds for axis 0 with size 13",
     "output_type": "error",
     "traceback": [
      "\u001b[1;31m---------------------------------------------------------------------------\u001b[0m",
      "\u001b[1;31mIndexError\u001b[0m                                Traceback (most recent call last)",
      "\u001b[1;32m<ipython-input-11-b4dcb57d7cab>\u001b[0m in \u001b[0;36m<module>\u001b[1;34m()\u001b[0m\n\u001b[0;32m      1\u001b[0m \u001b[1;32mfor\u001b[0m \u001b[0mi\u001b[0m \u001b[1;32min\u001b[0m \u001b[0mrange\u001b[0m\u001b[1;33m(\u001b[0m\u001b[1;36m0\u001b[0m\u001b[1;33m,\u001b[0m\u001b[0mlen\u001b[0m\u001b[1;33m(\u001b[0m\u001b[0mstateList\u001b[0m\u001b[1;33m)\u001b[0m\u001b[1;33m)\u001b[0m\u001b[1;33m:\u001b[0m\u001b[1;33m\u001b[0m\u001b[0m\n\u001b[0;32m      2\u001b[0m     \u001b[1;32mprint\u001b[0m\u001b[1;33m(\u001b[0m\u001b[0mstr\u001b[0m\u001b[1;33m(\u001b[0m\u001b[0mi\u001b[0m\u001b[1;33m+\u001b[0m\u001b[1;36m1\u001b[0m\u001b[1;33m)\u001b[0m \u001b[1;33m+\u001b[0m \u001b[1;34m\". \"\u001b[0m \u001b[1;33m+\u001b[0m \u001b[0mstateList\u001b[0m\u001b[1;33m[\u001b[0m\u001b[0mi\u001b[0m\u001b[1;33m]\u001b[0m\u001b[1;33m)\u001b[0m\u001b[1;33m\u001b[0m\u001b[0m\n\u001b[1;32m----> 3\u001b[1;33m \u001b[0mactive_state\u001b[0m \u001b[1;33m=\u001b[0m \u001b[0mBTS_data\u001b[0m\u001b[1;33m.\u001b[0m\u001b[0mScenario\u001b[0m\u001b[1;33m.\u001b[0m\u001b[0munique\u001b[0m\u001b[1;33m(\u001b[0m\u001b[1;33m)\u001b[0m\u001b[1;33m[\u001b[0m\u001b[0mint\u001b[0m\u001b[1;33m(\u001b[0m\u001b[0minput\u001b[0m\u001b[1;33m(\u001b[0m\u001b[1;34m\"     Select active state: \"\u001b[0m\u001b[1;33m)\u001b[0m\u001b[1;33m)\u001b[0m\u001b[1;33m-\u001b[0m\u001b[1;36m1\u001b[0m\u001b[1;33m]\u001b[0m\u001b[1;33m\u001b[0m\u001b[0m\n\u001b[0m\u001b[0;32m      4\u001b[0m \u001b[0mactive_data\u001b[0m \u001b[1;33m=\u001b[0m \u001b[0mactive_data\u001b[0m\u001b[1;33m[\u001b[0m\u001b[0mactive_data\u001b[0m\u001b[1;33m[\u001b[0m\u001b[1;34m\"State\"\u001b[0m\u001b[1;33m]\u001b[0m \u001b[1;33m!=\u001b[0m \u001b[1;34m\"null\"\u001b[0m\u001b[1;33m]\u001b[0m\u001b[1;33m\u001b[0m\u001b[0m\n\u001b[0;32m      5\u001b[0m \u001b[0mactive_data\u001b[0m\u001b[1;33m.\u001b[0m\u001b[0miloc\u001b[0m\u001b[1;33m[\u001b[0m\u001b[1;33m:\u001b[0m\u001b[1;36m2\u001b[0m\u001b[1;33m]\u001b[0m\u001b[1;33m\u001b[0m\u001b[0m\n",
      "\u001b[1;31mIndexError\u001b[0m: index 30 is out of bounds for axis 0 with size 13"
     ]
    }
   ],
   "source": [
    "for i in range(0,len(stateList)):\n",
    "    print(str(i+1) + \". \" + stateList[i])\n",
    "active_state = stateList[int(input(\"     Select active state: \"))-1]\n",
    "active_data = active_data[active_data[\"State\"] != \"null\"]\n",
    "active_data.iloc[:2]"
   ]
  },
  {
   "cell_type": "code",
   "execution_count": null,
   "metadata": {},
   "outputs": [],
   "source": [
    "BTS_map = pd.read_csv(\"BTS_map.csv\")"
   ]
  },
  {
   "cell_type": "code",
   "execution_count": null,
   "metadata": {},
   "outputs": [],
   "source": [
    "BTS_map.set_index(\"Feedstock\", drop=True, inplace=True)\n",
    "\n",
    "BTS_dict = BTS_map['2011 Designation'].to_dict()"
   ]
  },
  {
   "cell_type": "code",
   "execution_count": null,
   "metadata": {},
   "outputs": [],
   "source": []
  },
  {
   "cell_type": "code",
   "execution_count": null,
   "metadata": {},
   "outputs": [],
   "source": [
    "pw_vals = [BTS_dict[x] for x in active_data[\"Feedstock\"]]\n",
    "active_data = active_data.assign(pw_id=pw_vals)"
   ]
  },
  {
   "cell_type": "code",
   "execution_count": null,
   "metadata": {},
   "outputs": [],
   "source": [
    "pw_sort = [pw_vals[x] + \"/\" + str(active_data['Year'].iloc[x]) for x in range(len(pw_vals))]\n",
    "\n",
    "active_data = active_data.assign(pw_table=pw_sort)\n",
    "\n",
    "active_data.iloc[:2]"
   ]
  },
  {
   "cell_type": "code",
   "execution_count": null,
   "metadata": {},
   "outputs": [],
   "source": [
    "data_cross = pd.crosstab(active_data.pw_table,active_data['Biomass Price'],values=active_data.Production,aggfunc=np.sum)"
   ]
  },
  {
   "cell_type": "code",
   "execution_count": null,
   "metadata": {},
   "outputs": [],
   "source": [
    "data_cross.to_csv(\"biomass_crosstab.csv\")"
   ]
  },
  {
   "cell_type": "code",
   "execution_count": null,
   "metadata": {
    "collapsed": true
   },
   "outputs": [],
   "source": []
  }
 ],
 "metadata": {
  "kernelspec": {
   "display_name": "Python 2",
   "language": "python",
   "name": "python2"
  },
  "language_info": {
   "codemirror_mode": {
    "name": "ipython",
    "version": 2
   },
   "file_extension": ".py",
   "mimetype": "text/x-python",
   "name": "python",
   "nbconvert_exporter": "python",
   "pygments_lexer": "ipython2",
   "version": "2.7.14"
  }
 },
 "nbformat": 4,
 "nbformat_minor": 1
}
